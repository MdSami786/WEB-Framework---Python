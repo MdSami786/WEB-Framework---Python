{
 "cells": [
  {
   "cell_type": "code",
   "execution_count": 22,
   "metadata": {},
   "outputs": [],
   "source": [
    "import mysql.connector\n",
    "mydb=mysql.connector.connect(user=\"root\",password=\"Muruga@123\")\n",
    "cur=mydb.cursor()\n",
    "cur.execute(\"create database coderbyte1\")"
   ]
  },
  {
   "cell_type": "code",
   "execution_count": 23,
   "metadata": {},
   "outputs": [],
   "source": [
    "cur.execute(\"use coderbyte1\")\n",
    "cur.execute(\"create table calculator(in1 int,in2 int,out1 int);\")"
   ]
  },
  {
   "cell_type": "code",
   "execution_count": 24,
   "metadata": {},
   "outputs": [
    {
     "name": "stdout",
     "output_type": "stream",
     "text": [
      " * Serving Flask app \"__main__\" (lazy loading)\n",
      " * Environment: production\n",
      "   WARNING: This is a development server. Do not use it in a production deployment.\n",
      "   Use a production WSGI server instead.\n",
      " * Debug mode: off\n"
     ]
    },
    {
     "name": "stderr",
     "output_type": "stream",
     "text": [
      " * Running on http://127.0.0.1:5000/ (Press CTRL+C to quit)\n",
      "127.0.0.1 - - [29/Sep/2022 22:54:00] \"\u001b[37mGET / HTTP/1.1\u001b[0m\" 200 -\n",
      "127.0.0.1 - - [29/Sep/2022 22:54:06] \"\u001b[37mPOST / HTTP/1.1\u001b[0m\" 200 -\n"
     ]
    }
   ],
   "source": [
    "from flask import Flask, render_template, request\n",
    "stmt=\"insert into calculator values(%s,%s,%s)\"\n",
    "app = Flask(__name__)\n",
    "# app.config.from_object(__name__)\n",
    "\n",
    "@app.route('/')\n",
    "def welcome():\n",
    "    return render_template('form.html')\n",
    "\n",
    "@app.route('/', methods=['POST'])\n",
    "\n",
    "def result():\n",
    "    var_1 = request.form.get(\"var_1\", type=int, default=0)\n",
    "    var_2 = request.form.get(\"var_2\", type=int, default=0)\n",
    "    operation = request.form.get(\"operation\")\n",
    "    if(operation == 'Addition'):\n",
    "        result = var_1 + var_2\n",
    "        data=(var_1,var_2,result)\n",
    "        cur.execute(stmt,data)\n",
    "    elif(operation == 'Subtraction'):\n",
    "        result = var_1 - var_2\n",
    "        data=(var_1,var_2,result)\n",
    "        cur.execute(stmt,data)\n",
    "    elif(operation == 'Multiplication'):\n",
    "        result = var_1 * var_2\n",
    "        data=(var_1,var_2,result)\n",
    "        cur.execute(stmt,data)\n",
    "    elif(operation == 'Division'):\n",
    "    \tif(var_1==0 and var_2==0):\n",
    "    \t\tresult = 0\n",
    "    \telse:\n",
    "        \tresult = var_1 / var_2\n",
    "        #data=(var_1,var_2,result)\n",
    "        #cur.execute(stmt,data)\n",
    "    else:\n",
    "        result = 0\n",
    "    entry = result\n",
    "    return render_template('form.html', entry=entry)\n",
    "\n",
    "if __name__ == '__main__':\n",
    "    app.run(debug=False)\n"
   ]
  },
  {
   "cell_type": "code",
   "execution_count": 25,
   "metadata": {},
   "outputs": [],
   "source": [
    "mydb.commit()\n"
   ]
  },
  {
   "cell_type": "code",
   "execution_count": 26,
   "metadata": {},
   "outputs": [],
   "source": [
    "result1=cur.execute(\"select * from calculator\");"
   ]
  },
  {
   "cell_type": "code",
   "execution_count": 27,
   "metadata": {},
   "outputs": [
    {
     "name": "stdout",
     "output_type": "stream",
     "text": [
      "(13, 2, 15)\n"
     ]
    }
   ],
   "source": [
    "for i in cur:\n",
    "    print(i)"
   ]
  },
  {
   "cell_type": "code",
   "execution_count": null,
   "metadata": {},
   "outputs": [],
   "source": []
  }
 ],
 "metadata": {
  "kernelspec": {
   "display_name": "Python 3",
   "language": "python",
   "name": "python3"
  },
  "language_info": {
   "codemirror_mode": {
    "name": "ipython",
    "version": 3
   },
   "file_extension": ".py",
   "mimetype": "text/x-python",
   "name": "python",
   "nbconvert_exporter": "python",
   "pygments_lexer": "ipython3",
   "version": "3.8.3"
  }
 },
 "nbformat": 4,
 "nbformat_minor": 4
}
